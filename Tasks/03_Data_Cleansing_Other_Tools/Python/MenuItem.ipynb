{
 "cells": [
  {
   "cell_type": "code",
   "execution_count": 2,
   "metadata": {},
   "outputs": [],
   "source": [
    "import pandas as pd"
   ]
  },
  {
   "cell_type": "markdown",
   "metadata": {},
   "source": [
    "# DISH"
   ]
  },
  {
   "cell_type": "code",
   "execution_count": 5,
   "metadata": {},
   "outputs": [],
   "source": [
    "with open('..\\Data\\MenuItem.csv','r',encoding='utf-8') as f:\n",
    "    mi_df = pd.read_csv(f)"
   ]
  },
  {
   "cell_type": "code",
   "execution_count": 6,
   "metadata": {},
   "outputs": [
    {
     "data": {
      "text/plain": [
       "id                int64\n",
       "menu_page_id      int64\n",
       "price           float64\n",
       "high_price      float64\n",
       "dish_id         float64\n",
       "created_at       object\n",
       "updated_at       object\n",
       "xpos            float64\n",
       "ypos            float64\n",
       "dtype: object"
      ]
     },
     "execution_count": 6,
     "metadata": {},
     "output_type": "execute_result"
    }
   ],
   "source": [
    "mi_df.dtypes"
   ]
  },
  {
   "cell_type": "code",
   "execution_count": 19,
   "metadata": {},
   "outputs": [
    {
     "data": {
      "text/html": [
       "<div>\n",
       "<style scoped>\n",
       "    .dataframe tbody tr th:only-of-type {\n",
       "        vertical-align: middle;\n",
       "    }\n",
       "\n",
       "    .dataframe tbody tr th {\n",
       "        vertical-align: top;\n",
       "    }\n",
       "\n",
       "    .dataframe thead th {\n",
       "        text-align: right;\n",
       "    }\n",
       "</style>\n",
       "<table border=\"1\" class=\"dataframe\">\n",
       "  <thead>\n",
       "    <tr style=\"text-align: right;\">\n",
       "      <th></th>\n",
       "      <th>id</th>\n",
       "      <th>menu_page_id</th>\n",
       "      <th>price</th>\n",
       "      <th>high_price</th>\n",
       "      <th>dish_id</th>\n",
       "      <th>created_at</th>\n",
       "      <th>updated_at</th>\n",
       "      <th>xpos</th>\n",
       "      <th>ypos</th>\n",
       "    </tr>\n",
       "  </thead>\n",
       "  <tbody>\n",
       "    <tr>\n",
       "      <td>0</td>\n",
       "      <td>1</td>\n",
       "      <td>1389</td>\n",
       "      <td>0.4</td>\n",
       "      <td>NaN</td>\n",
       "      <td>1</td>\n",
       "      <td>2011-03-28 15:00:44</td>\n",
       "      <td>2011-04-19 04:33:15</td>\n",
       "      <td>0.111429</td>\n",
       "      <td>0.254735</td>\n",
       "    </tr>\n",
       "    <tr>\n",
       "      <td>1</td>\n",
       "      <td>2</td>\n",
       "      <td>1389</td>\n",
       "      <td>0.6</td>\n",
       "      <td>NaN</td>\n",
       "      <td>2</td>\n",
       "      <td>2011-03-28 15:01:13</td>\n",
       "      <td>2011-04-19 15:00:54</td>\n",
       "      <td>0.438571</td>\n",
       "      <td>0.254735</td>\n",
       "    </tr>\n",
       "    <tr>\n",
       "      <td>2</td>\n",
       "      <td>3</td>\n",
       "      <td>1389</td>\n",
       "      <td>0.4</td>\n",
       "      <td>NaN</td>\n",
       "      <td>3</td>\n",
       "      <td>2011-03-28 15:01:40</td>\n",
       "      <td>2011-04-19 19:10:05</td>\n",
       "      <td>0.140000</td>\n",
       "      <td>0.261922</td>\n",
       "    </tr>\n",
       "    <tr>\n",
       "      <td>3</td>\n",
       "      <td>4</td>\n",
       "      <td>1389</td>\n",
       "      <td>0.5</td>\n",
       "      <td>NaN</td>\n",
       "      <td>4</td>\n",
       "      <td>2011-03-28 15:01:51</td>\n",
       "      <td>2011-04-19 19:07:01</td>\n",
       "      <td>0.377143</td>\n",
       "      <td>0.262720</td>\n",
       "    </tr>\n",
       "    <tr>\n",
       "      <td>4</td>\n",
       "      <td>5</td>\n",
       "      <td>3079</td>\n",
       "      <td>0.5</td>\n",
       "      <td>1.0</td>\n",
       "      <td>5</td>\n",
       "      <td>2011-03-28 15:21:26</td>\n",
       "      <td>2011-04-13 15:25:27</td>\n",
       "      <td>0.105714</td>\n",
       "      <td>0.313178</td>\n",
       "    </tr>\n",
       "  </tbody>\n",
       "</table>\n",
       "</div>"
      ],
      "text/plain": [
       "   id  menu_page_id  price  high_price  dish_id           created_at  \\\n",
       "0   1          1389    0.4         NaN        1  2011-03-28 15:00:44   \n",
       "1   2          1389    0.6         NaN        2  2011-03-28 15:01:13   \n",
       "2   3          1389    0.4         NaN        3  2011-03-28 15:01:40   \n",
       "3   4          1389    0.5         NaN        4  2011-03-28 15:01:51   \n",
       "4   5          3079    0.5         1.0        5  2011-03-28 15:21:26   \n",
       "\n",
       "            updated_at      xpos      ypos  \n",
       "0  2011-04-19 04:33:15  0.111429  0.254735  \n",
       "1  2011-04-19 15:00:54  0.438571  0.254735  \n",
       "2  2011-04-19 19:10:05  0.140000  0.261922  \n",
       "3  2011-04-19 19:07:01  0.377143  0.262720  \n",
       "4  2011-04-13 15:25:27  0.105714  0.313178  "
      ]
     },
     "execution_count": 19,
     "metadata": {},
     "output_type": "execute_result"
    }
   ],
   "source": [
    "mi_df.id           = mi_df.id.astype(int)\n",
    "mi_df.menu_page_id = mi_df.menu_page_id.astype(int)\n",
    "mi_df.price        = mi_df.price.astype(float)\n",
    "mi_df.high_price   = mi_df.high_price.astype(float)\n",
    "mi_df.dish_id      = mi_df.dish_id.fillna(-1).astype(int)\n",
    "mi_df.created_at   = mi_df.created_at.astype(str)\n",
    "mi_df.updated_at   = mi_df.updated_at.astype(str)\n",
    "mi_df.xpos         = mi_df.xpos.astype(float)\n",
    "mi_df.ypos         = mi_df.ypos.astype(float)\n",
    "mi_df.head()"
   ]
  },
  {
   "cell_type": "code",
   "execution_count": 16,
   "metadata": {},
   "outputs": [],
   "source": [
    "mi_df['created_at'] = mi_df.created_at.str.rstrip(' UTC')\n",
    "mi_df['updated_at'] = mi_df.updated_at.str.rstrip(' UTC')"
   ]
  },
  {
   "cell_type": "code",
   "execution_count": 18,
   "metadata": {},
   "outputs": [],
   "source": [
    "dish_df.to_csv('..\\Data\\MenuItem.csv',encoding='utf-8',float_format='%.6f',index=False)"
   ]
  }
 ],
 "metadata": {
  "kernelspec": {
   "display_name": "Python 3",
   "language": "python",
   "name": "python3"
  },
  "language_info": {
   "codemirror_mode": {
    "name": "ipython",
    "version": 3
   },
   "file_extension": ".py",
   "mimetype": "text/x-python",
   "name": "python",
   "nbconvert_exporter": "python",
   "pygments_lexer": "ipython3",
   "version": "3.7.3"
  }
 },
 "nbformat": 4,
 "nbformat_minor": 2
}
