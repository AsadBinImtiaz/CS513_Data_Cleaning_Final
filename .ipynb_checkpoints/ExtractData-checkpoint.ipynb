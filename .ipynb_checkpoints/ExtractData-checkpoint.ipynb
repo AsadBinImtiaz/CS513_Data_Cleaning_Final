{
 "cells": [
  {
   "cell_type": "code",
   "execution_count": 1,
   "metadata": {},
   "outputs": [],
   "source": [
    "import zipfile"
   ]
  },
  {
   "cell_type": "markdown",
   "metadata": {},
   "source": [
    "## Import Raw Data to Data Directory\n",
    "\n",
    "In Each task, the data from previous task's data directory is read, transformed and written in this task's data directory\n",
    "\n",
    "IN Task 1, since there is no previous task, the data is taken from Raw data directory of the project. This data is zip archived and is extracted with this python job"
   ]
  },
  {
   "cell_type": "code",
   "execution_count": 6,
   "metadata": {},
   "outputs": [],
   "source": [
    "Task_Name = '01 Initial Assesment'\n",
    "Tool_Name = 'Python'"
   ]
  },
  {
   "cell_type": "code",
   "execution_count": 2,
   "metadata": {},
   "outputs": [],
   "source": [
    "Raw_Data = 'Data.zip'\n",
    "\n",
    "Task_Dir = 'Tasks/'\n",
    "Data_Dir = 'Data/'"
   ]
  },
  {
   "cell_type": "code",
   "execution_count": 3,
   "metadata": {},
   "outputs": [],
   "source": [
    "with zipfile.ZipFile(Root_Dir+Raw_Data, 'r') as f:\n",
    "    f.extractall(Task_Dir+Data_Dir)"
   ]
  },
  {
   "cell_type": "code",
   "execution_count": 4,
   "metadata": {},
   "outputs": [],
   "source": [
    "#END"
   ]
  }
 ],
 "metadata": {
  "kernelspec": {
   "display_name": "Python 3",
   "language": "python",
   "name": "python3"
  },
  "language_info": {
   "codemirror_mode": {
    "name": "ipython",
    "version": 3
   },
   "file_extension": ".py",
   "mimetype": "text/x-python",
   "name": "python",
   "nbconvert_exporter": "python",
   "pygments_lexer": "ipython3",
   "version": "3.7.3"
  }
 },
 "nbformat": 4,
 "nbformat_minor": 2
}
